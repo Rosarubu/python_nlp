{
 "cells": [
  {
   "cell_type": "code",
   "execution_count": 1,
   "metadata": {
    "collapsed": false
   },
   "outputs": [
    {
     "name": "stdout",
     "output_type": "stream",
     "text": [
      "3.5.2 |Anaconda 4.1.1 (x86_64)| (default, Jul  2 2016, 17:52:12) \n",
      "[GCC 4.2.1 Compatible Apple LLVM 4.2 (clang-425.0.28)]\n"
     ]
    }
   ],
   "source": [
    "import sys\n",
    "print (sys.version)"
   ]
  },
  {
   "cell_type": "code",
   "execution_count": 11,
   "metadata": {
    "collapsed": false
   },
   "outputs": [],
   "source": [
    "import nltk\n",
    "from nltk.corpus import PlaintextCorpusReader\n",
    "import matplotlib\n",
    "import random"
   ]
  },
  {
   "cell_type": "code",
   "execution_count": 3,
   "metadata": {
    "collapsed": false
   },
   "outputs": [
    {
     "name": "stdout",
     "output_type": "stream",
     "text": [
      "<PlaintextCorpusReader in '/Users/rosarubu1/Downloads/review_polarity/txt_sentoken'>\n"
     ]
    }
   ],
   "source": [
    "review_path = '/Users/rosarubu1/Downloads/review_polarity/txt_sentoken/'\n",
    "file_pattern = r\".*/*\\.txt\"\n",
    "review_lists = PlaintextCorpusReader(review_path, file_pattern)\n",
    "print(review_lists)"
   ]
  },
  {
   "cell_type": "code",
   "execution_count": 6,
   "metadata": {
    "collapsed": false
   },
   "outputs": [],
   "source": [
    "# print(review_lists.raw(review_lists.fileids()[0]))"
   ]
  },
  {
   "cell_type": "code",
   "execution_count": 9,
   "metadata": {
    "collapsed": false
   },
   "outputs": [
    {
     "name": "stdout",
     "output_type": "stream",
     "text": [
      "2000\n"
     ]
    }
   ],
   "source": [
    "# save review from review_lists\n",
    "reviews = []\n",
    "reviews_num = len(review_lists.fileids())\n",
    "print(reviews_num)\n",
    "for i in range (0,len(review_lists.fileids())):\n",
    "    cls = review_lists.fileids()[i].split('/')[0]\n",
    "    content = review_lists.raw(review_lists.fileids()[i])\n",
    "    reviews.append((content, cls))"
   ]
  },
  {
   "cell_type": "code",
   "execution_count": 10,
   "metadata": {
    "collapsed": false
   },
   "outputs": [
    {
     "name": "stdout",
     "output_type": "stream",
     "text": [
      "('plot : two teen couples go to a church party , drink and then drive . \\nthey get into an accident . \\none of the guys dies , but his girlfriend continues to see him in her life , and has nightmares . \\nwhat\\'s the deal ? \\nwatch the movie and \" sorta \" find out . . . \\ncritique : a mind-fuck movie for the teen generation that touches on a very cool idea , but presents it in a very bad package . \\nwhich is what makes this review an even harder one to write , since i generally applaud films which attempt to break the mold , mess with your head and such ( lost highway & memento ) , but there are good and bad ways of making all types of films , and these folks just didn\\'t snag this one correctly . \\nthey seem to have taken this pretty neat concept , but executed it terribly . \\nso what are the problems with the movie ? \\nwell , its main problem is that it\\'s simply too jumbled . \\nit starts off \" normal \" but then downshifts into this \" fantasy \" world in which you , as an audience member , have no idea what\\'s going on . \\nthere are dreams , there are characters coming back from the dead , there are others who look like the dead , there are strange apparitions , there are disappearances , there are a looooot of chase scenes , there are tons of weird things that happen , and most of it is simply not explained . \\nnow i personally don\\'t mind trying to unravel a film every now and then , but when all it does is give me the same clue over and over again , i get kind of fed up after a while , which is this film\\'s biggest problem . \\nit\\'s obviously got this big secret to hide , but it seems to want to hide it completely until its final five minutes . \\nand do they make things entertaining , thrilling or even engaging , in the meantime ? \\nnot really . \\nthe sad part is that the arrow and i both dig on flicks like this , so we actually figured most of it out by the half-way point , so all of the strangeness after that did start to make a little bit of sense , but it still didn\\'t the make the film all that more entertaining . \\ni guess the bottom line with movies like this is that you should always make sure that the audience is \" into it \" even before they are given the secret password to enter your world of understanding . \\ni mean , showing melissa sagemiller running away from visions for about 20 minutes throughout the movie is just plain lazy ! ! \\nokay , we get it . . . there \\nare people chasing her and we don\\'t know who they are . \\ndo we really need to see it over and over again ? \\nhow about giving us different scenes offering further insight into all of the strangeness going down in the movie ? \\napparently , the studio took this film away from its director and chopped it up themselves , and it shows . \\nthere might\\'ve been a pretty decent teen mind-fuck movie in here somewhere , but i guess \" the suits \" decided that turning it into a music video with little edge , would make more sense . \\nthe actors are pretty good for the most part , although wes bentley just seemed to be playing the exact same character that he did in american beauty , only in a new neighborhood . \\nbut my biggest kudos go out to sagemiller , who holds her own throughout the entire film , and actually has you feeling her character\\'s unraveling . \\noverall , the film doesn\\'t stick because it doesn\\'t entertain , it\\'s confusing , it rarely excites and it feels pretty redundant for most of its runtime , despite a pretty cool ending and explanation to all of the craziness that came before it . \\noh , and by the way , this is not a horror or teen slasher flick . . . it\\'s \\njust packaged to look that way because someone is apparently assuming that the genre is still hot with the kids . \\nit also wrapped production two years ago and has been sitting on the shelves ever since . \\nwhatever . . . skip \\nit ! \\nwhere\\'s joblo coming from ? \\na nightmare of elm street 3 ( 7/10 ) - blair witch 2 ( 7/10 ) - the crow ( 9/10 ) - the crow : salvation ( 4/10 ) - lost highway ( 10/10 ) - memento ( 10/10 ) - the others ( 9/10 ) - stir of echoes ( 8/10 ) \\n', 'neg')\n"
     ]
    }
   ],
   "source": [
    "print(reviews[0])"
   ]
  },
  {
   "cell_type": "code",
   "execution_count": 12,
   "metadata": {
    "collapsed": false
   },
   "outputs": [],
   "source": [
    "random.shuffle(reviews)\n",
    "train_set, test_set = reviews[:100], reviews[100:110]"
   ]
  },
  {
   "cell_type": "code",
   "execution_count": 15,
   "metadata": {
    "collapsed": false
   },
   "outputs": [],
   "source": [
    "# tokenization and create a dictionary of sentense - word - pos|neg\n",
    "#drop stop words\n",
    "from nltk.tokenize import word_tokenize\n",
    "from nltk.corpus import stopwords\n",
    "dictionary_raw = set(word.lower() for passage in train_set+test_set for word in word_tokenize(passage[0]))\n",
    "dictionary_stop = [word for word in dictionary_raw if word not in stopwords.words('english')]"
   ]
  },
  {
   "cell_type": "code",
   "execution_count": 29,
   "metadata": {
    "collapsed": false
   },
   "outputs": [
    {
     "name": "stdout",
     "output_type": "stream",
     "text": [
      "10638\n",
      "10638\n"
     ]
    }
   ],
   "source": [
    "from nltk.stem import PorterStemmer, WordNetLemmatizer\n",
    "lemmatizer = WordNetLemmatizer()\n",
    "print(len(dictionary_stop))\n",
    "dictionary_stop_lemmatise_adj = [lemmatizer.lemmatize(word, pos=\"a\") for word in dictionary_stop]\n",
    "print(len(dictionary_stop_lemmatise_adj))"
   ]
  },
  {
   "cell_type": "code",
   "execution_count": 38,
   "metadata": {
    "collapsed": false
   },
   "outputs": [
    {
     "name": "stdout",
     "output_type": "stream",
     "text": [
      "<FreqDist with 10562 samples and 10638 outcomes>\n",
      "[('close', 3), ('cool', 3), ('great', 3), ('dark', 3), ('late', 3), ('young', 3), ('fine', 3), ('fast', 3), ('bad', 3), ('strong', 3), ('long', 3), ('big', 3), ('old', 3), ('large', 3), ('tough', 3), ('slack', 2), ('early', 2), ('bland', 2), ('hot', 2), ('funny', 2), ('cheap', 2), ('mean', 2), ('still', 2), ('hammy', 2), ('merry', 2), ('sappy', 2), ('neat', 2), ('well', 2), ('rich', 2), ('lame', 2), ('weak', 2), ('tame', 2), ('strange', 2), ('furry', 2), ('lively', 2), ('wide', 2), ('common', 2), ('wise', 2), ('ugly', 2), ('less', 2), ('full', 2), ('l', 2), ('bitchy', 2), ('dear', 2), ('nice', 2), ('scary', 2), ('corrupt', 2), ('sharp', 2), ('good', 2), ('easy', 2)]\n"
     ]
    }
   ],
   "source": [
    "freq_dist = nltk.FreqDist(dictionary_stop_lemmatise_adj)\n",
    "print(freq_dist)\n",
    "print(freq_dist.most_common(50))"
   ]
  },
  {
   "cell_type": "code",
   "execution_count": null,
   "metadata": {
    "collapsed": false
   },
   "outputs": [
    {
     "name": "stdout",
     "output_type": "stream",
     "text": [
      "10770\n",
      "10638\n",
      "!\n"
     ]
    }
   ],
   "source": [
    "print(len(dictionary_raw))\n",
    "print(len(dictionary_stop))\n",
    "print(dictionary_stop[0])\n",
    "# tokenization\n",
    "train = [({word: (word in word_tokenize(x[0])) for word in dictionary_stop_lemmatise_adj}, x[1]) for x in train_set]\n",
    "print(train[0])\n",
    "# train\n",
    "classifier = nltk.NaiveBayesClassifier.train(train)"
   ]
  },
  {
   "cell_type": "code",
   "execution_count": 24,
   "metadata": {
    "collapsed": false
   },
   "outputs": [
    {
     "name": "stdout",
     "output_type": "stream",
     "text": [
      "0.7\n",
      "Most Informative Features\n",
      "                     tom = True              pos : neg    =      6.7 : 1.0\n",
      "                 america = True              pos : neg    =      6.1 : 1.0\n",
      "                  change = True              pos : neg    =      5.4 : 1.0\n",
      "                deserves = True              pos : neg    =      5.4 : 1.0\n",
      "                   drama = True              pos : neg    =      5.4 : 1.0\n",
      "                   using = True              pos : neg    =      5.4 : 1.0\n",
      "                 talking = True              neg : pos    =      5.2 : 1.0\n",
      "                 killing = True              neg : pos    =      5.2 : 1.0\n",
      "                 violent = True              neg : pos    =      5.2 : 1.0\n",
      "                dialogue = True              neg : pos    =      5.2 : 1.0\n",
      "              remarkable = True              pos : neg    =      4.8 : 1.0\n",
      "                  visual = True              pos : neg    =      4.8 : 1.0\n",
      "                   jones = True              pos : neg    =      4.8 : 1.0\n",
      "                    felt = True              pos : neg    =      4.8 : 1.0\n",
      "               chemistry = True              pos : neg    =      4.8 : 1.0\n",
      "                 attempt = True              neg : pos    =      4.8 : 1.0\n",
      "                  father = True              pos : neg    =      4.5 : 1.0\n",
      "                    mess = True              neg : pos    =      4.5 : 1.0\n",
      "                   cheap = True              neg : pos    =      4.5 : 1.0\n",
      "                   video = True              neg : pos    =      4.5 : 1.0\n"
     ]
    }
   ],
   "source": [
    "# tokenization of test set\n",
    "test = [({word: (word in word_tokenize(x[0])) for word in dictionary_stop_lemmatise_adj}, x[1]) for x in test_set]\n",
    "# test accuracy\n",
    "print(nltk.classify.accuracy(classifier, test))\n",
    "# show the most informative words\n",
    "classifier.show_most_informative_features(20)"
   ]
  },
  {
   "cell_type": "code",
   "execution_count": 22,
   "metadata": {
    "collapsed": true
   },
   "outputs": [],
   "source": []
  },
  {
   "cell_type": "code",
   "execution_count": 37,
   "metadata": {
    "collapsed": false
   },
   "outputs": [
    {
     "name": "stdout",
     "output_type": "stream",
     "text": [
      "<FreqDist with 10769 samples and 10769 outcomes>\n",
      "[('indecent neo', 1), ('perceptive kidnap', 1), ('sentence hefty', 1), ('equal trust', 1), ('suffice picked', 1), ('kitty spot', 1), ('notion career-minded', 1), ('leaps needs', 1), ('offensive fourth', 1), ('radiation pure', 1), ('fresh lesson', 1), ('experience reluctant', 1), ('shelly bus', 1), ('noble princes', 1), ('millers check', 1), ('mining/slave moist', 1), ('luxurious finance', 1), ('helming revels', 1), ('5th ham', 1), ('snide wonderful', 1), ('clone simmons', 1), ('sugar introduces', 1), ('reno commandos', 1), ('lamentable assignment', 1), ('sister open', 1), ('ginger usage', 1), ('topics matter-of-fact', 1), ('skip mob', 1), ('de teams', 1), ('births lightning', 1), ('passenger easier', 1), ('mine hole', 1), ('vicious accordingly', 1), ('nights appreciated', 1), ('screwed convoluted', 1), ('standpoint on-screen', 1), ('gangster britain', 1), ('prosthetic essentially', 1), ('estrogenic froth', 1), ('cargo shadowy', 1), ('habits hardy', 1), ('working announces', 1), ('episode children', 1), ('2000 south', 1), ('edward all-of-a-sudden-superhuman', 1), ('march oh', 1), ('struck profoundly', 1), ('disenfranchised 80', 1), ('skips marshmallows', 1), ('joke stirs', 1)]\n"
     ]
    }
   ],
   "source": [
    "#bigram\n",
    "dictionary_raw_set = set(word.lower() for passage in train_set+test_set for word in word_tokenize(passage[0]))\n",
    "bigrams = [\" \".join(pair) for pair in nltk.bigrams(dictionary_raw_set)]\n",
    "freq_dist = nltk.FreqDist(bigrams)\n",
    "print(freq_dist)\n",
    "print(freq_dist.most_common(50))"
   ]
  },
  {
   "cell_type": "code",
   "execution_count": 26,
   "metadata": {
    "collapsed": false
   },
   "outputs": [
    {
     "name": "stdout",
     "output_type": "stream",
     "text": [
      "worri worrying worry worrying\n"
     ]
    }
   ],
   "source": [
    "from nltk.stem import PorterStemmer, WordNetLemmatizer\n",
    "stemmer = PorterStemmer()\n",
    "lemmatizer = WordNetLemmatizer()\n",
    "test_word = \"worrying\"\n",
    "word_stem = stemmer.stem(test_word)\n",
    "word_lemmatise = lemmatizer.lemmatize(test_word)\n",
    "word_lemmatise_verb = lemmatizer.lemmatize(test_word, pos=\"v\")\n",
    "word_lemmatise_adj = lemmatizer.lemmatize(test_word, pos=\"a\")\n",
    "print(word_stem, word_lemmatise, word_lemmatise_verb, word_lemmatise_adj)"
   ]
  },
  {
   "cell_type": "code",
   "execution_count": 49,
   "metadata": {
    "collapsed": false
   },
   "outputs": [],
   "source": [
    "from nltk.tokenize import RegexpTokenizer\n",
    "tokenizer = RegexpTokenizer(r'\\w+')\n",
    "#pos_tokens = sorted(set(word.lower() for pr in pos_reviews for word in tokenizer.tokenize(pr)))\n",
    "# tokens = tokenizer.tokenize(reviews[0].lower())\n",
    "# print(pos_tokens[:200])\n",
    "# print(pos_word_stop[:200])\n",
    "# print (len(pos_tokens))\n",
    "pattern = r'[\\d.,]+|[A-Z][.A-Z]+\\b\\.*|\\w+|\\S'\n",
    "tokenizer = RegexpTokenizer(pattern)\n",
    "print(tokenizer.tokenize(line))"
   ]
  },
  {
   "cell_type": "code",
   "execution_count": null,
   "metadata": {
    "collapsed": false
   },
   "outputs": [],
   "source": [
    "from nltk.classify import NaiveBayesClassifier\n",
    "classifier = nltk.NaiveBayesClassifier.train(train)"
   ]
  },
  {
   "cell_type": "code",
   "execution_count": 20,
   "metadata": {
    "collapsed": false
   },
   "outputs": [
    {
     "data": {
      "text/plain": [
       "[('10', 'CD'),\n",
       " ('2', 'CD'),\n",
       " ('20', 'CD'),\n",
       " ('3', 'CD'),\n",
       " ('4', 'CD'),\n",
       " ('7', 'CD'),\n",
       " ('8', 'CD'),\n",
       " ('9', 'CD'),\n",
       " ('accident', 'NN'),\n",
       " ('actors', 'NNS'),\n",
       " ('actually', 'RB'),\n",
       " ('ago', 'RB'),\n",
       " ('also', 'RB'),\n",
       " ('although', 'IN'),\n",
       " ('always', 'RB'),\n",
       " ('american', 'JJ'),\n",
       " ('apparently', 'RB'),\n",
       " ('apparitions', 'NNS'),\n",
       " ('applaud', 'VBP'),\n",
       " ('arrow', 'IN'),\n",
       " ('assuming', 'VBG'),\n",
       " ('attempt', 'JJ'),\n",
       " ('audience', 'NN'),\n",
       " ('away', 'RB'),\n",
       " ('back', 'RB'),\n",
       " ('bad', 'JJ'),\n",
       " ('beauty', 'NN'),\n",
       " ('bentley', 'NN'),\n",
       " ('big', 'JJ'),\n",
       " ('biggest', 'JJS'),\n",
       " ('bit', 'NN'),\n",
       " ('blair', 'JJ'),\n",
       " ('bottom', 'JJ'),\n",
       " ('break', 'NN'),\n",
       " ('came', 'VBD'),\n",
       " ('character', 'JJ'),\n",
       " ('characters', 'NNS'),\n",
       " ('chase', 'VBP'),\n",
       " ('chasing', 'VBG'),\n",
       " ('chopped', 'VBN'),\n",
       " ('church', 'NN'),\n",
       " ('clue', 'NN'),\n",
       " ('coming', 'VBG'),\n",
       " ('completely', 'RB'),\n",
       " ('concept', 'JJ'),\n",
       " ('confusing', 'VBG'),\n",
       " ('continues', 'VBZ'),\n",
       " ('cool', 'NN'),\n",
       " ('correctly', 'RB'),\n",
       " ('couples', 'VBZ'),\n",
       " ('craziness', 'NN'),\n",
       " ('critique', 'NN'),\n",
       " ('crow', 'NN'),\n",
       " ('dead', 'JJ'),\n",
       " ('deal', 'NN'),\n",
       " ('decent', 'NN'),\n",
       " ('decided', 'VBD'),\n",
       " ('despite', 'IN'),\n",
       " ('dies', 'NNS'),\n",
       " ('different', 'JJ'),\n",
       " ('dig', 'NNS'),\n",
       " ('director', 'NN'),\n",
       " ('disappearances', 'NNS'),\n",
       " ('downshifts', 'VBP'),\n",
       " ('dreams', 'NNS'),\n",
       " ('drink', 'VBP'),\n",
       " ('drive', 'NN'),\n",
       " ('echoes', 'NNS'),\n",
       " ('edge', 'VBP'),\n",
       " ('elm', 'RB'),\n",
       " ('ending', 'VBG'),\n",
       " ('engaging', 'VBG'),\n",
       " ('enter', 'NN'),\n",
       " ('entertain', 'VBP'),\n",
       " ('entertaining', 'VBG'),\n",
       " ('entire', 'JJ'),\n",
       " ('even', 'RB'),\n",
       " ('ever', 'RB'),\n",
       " ('every', 'DT'),\n",
       " ('exact', 'JJ'),\n",
       " ('excites', 'NNS'),\n",
       " ('executed', 'VBD'),\n",
       " ('explained', 'JJ'),\n",
       " ('explanation', 'NN'),\n",
       " ('fantasy', 'NN'),\n",
       " ('fed', 'VBD'),\n",
       " ('feeling', 'JJ'),\n",
       " ('feels', 'NNS'),\n",
       " ('figured', 'VBN'),\n",
       " ('film', 'NN'),\n",
       " ('films', 'NNS'),\n",
       " ('final', 'JJ'),\n",
       " ('find', 'VBP'),\n",
       " ('five', 'CD'),\n",
       " ('flick', 'JJ'),\n",
       " ('flicks', 'NNS'),\n",
       " ('folks', 'VBP'),\n",
       " ('fuck', 'VBN'),\n",
       " ('generally', 'RB'),\n",
       " ('generation', 'NN'),\n",
       " ('genre', 'NN'),\n",
       " ('get', 'VBP'),\n",
       " ('girlfriend', 'JJ'),\n",
       " ('give', 'VB'),\n",
       " ('given', 'VBN'),\n",
       " ('giving', 'VBG'),\n",
       " ('go', 'VB'),\n",
       " ('going', 'VBG'),\n",
       " ('good', 'JJ'),\n",
       " ('got', 'VBD'),\n",
       " ('guess', 'JJ'),\n",
       " ('guys', 'NNS'),\n",
       " ('half', 'NN'),\n",
       " ('happen', 'JJ'),\n",
       " ('harder', 'JJR'),\n",
       " ('head', 'NN'),\n",
       " ('hide', 'VB'),\n",
       " ('highway', 'NN'),\n",
       " ('holds', 'VBZ'),\n",
       " ('horror', 'JJ'),\n",
       " ('hot', 'JJ'),\n",
       " ('idea', 'NN'),\n",
       " ('insight', 'NN'),\n",
       " ('joblo', 'NN'),\n",
       " ('jumbled', 'VBD'),\n",
       " ('kids', 'NNS'),\n",
       " ('kind', 'NN'),\n",
       " ('know', 'VBP'),\n",
       " ('kudos', 'NN'),\n",
       " ('lazy', 'JJ'),\n",
       " ('life', 'NN'),\n",
       " ('like', 'IN'),\n",
       " ('line', 'NN'),\n",
       " ('little', 'JJ'),\n",
       " ('look', 'NN'),\n",
       " ('looooot', 'NN'),\n",
       " ('lost', 'VBD'),\n",
       " ('main', 'JJ'),\n",
       " ('make', 'NN'),\n",
       " ('makes', 'VBZ'),\n",
       " ('making', 'VBG'),\n",
       " ('mean', 'JJ'),\n",
       " ('meantime', 'JJ'),\n",
       " ('melissa', 'NN'),\n",
       " ('member', 'NN'),\n",
       " ('memento', 'NN'),\n",
       " ('mess', 'NN'),\n",
       " ('might', 'MD'),\n",
       " ('mind', 'VB'),\n",
       " ('minutes', 'NNS'),\n",
       " ('mold', 'JJ'),\n",
       " ('movie', 'NN'),\n",
       " ('movies', 'NNS'),\n",
       " ('music', 'NN'),\n",
       " ('neat', 'VBP'),\n",
       " ('need', 'VBP'),\n",
       " ('neighborhood', 'JJ'),\n",
       " ('new', 'JJ'),\n",
       " ('nightmare', 'JJ'),\n",
       " ('nightmares', 'NNS'),\n",
       " ('normal', 'JJ'),\n",
       " ('obviously', 'RB'),\n",
       " ('offering', 'VBG'),\n",
       " ('oh', 'PRP'),\n",
       " ('okay', 'VBP'),\n",
       " ('one', 'CD'),\n",
       " ('others', 'NNS'),\n",
       " ('overall', 'JJ'),\n",
       " ('package', 'NN'),\n",
       " ('packaged', 'VBD'),\n",
       " ('part', 'NN'),\n",
       " ('party', 'NN'),\n",
       " ('password', 'NN'),\n",
       " ('people', 'NNS'),\n",
       " ('personally', 'RB'),\n",
       " ('plain', 'VBP'),\n",
       " ('playing', 'VBG'),\n",
       " ('plot', 'NN'),\n",
       " ('point', 'NN'),\n",
       " ('presents', 'NNS'),\n",
       " ('pretty', 'VBP'),\n",
       " ('problem', 'NN'),\n",
       " ('problems', 'NNS'),\n",
       " ('production', 'NN'),\n",
       " ('rarely', 'RB'),\n",
       " ('really', 'RB'),\n",
       " ('redundant', 'JJ'),\n",
       " ('review', 'NN'),\n",
       " ('running', 'VBG'),\n",
       " ('runtime', 'JJ'),\n",
       " ('sad', 'JJ'),\n",
       " ('sagemiller', 'NN'),\n",
       " ('salvation', 'NN'),\n",
       " ('scenes', 'NNS'),\n",
       " ('secret', 'JJ'),\n",
       " ('see', 'VBP'),\n",
       " ('seem', 'VBP'),\n",
       " ('seemed', 'VBN'),\n",
       " ('seems', 'VBZ'),\n",
       " ('sense', 'NN'),\n",
       " ('shelves', 'NNS'),\n",
       " ('showing', 'VBG'),\n",
       " ('shows', 'NNS'),\n",
       " ('simply', 'RB'),\n",
       " ('since', 'IN'),\n",
       " ('sitting', 'VBG'),\n",
       " ('skip', 'NN'),\n",
       " ('slasher', 'NN'),\n",
       " ('snag', 'NN'),\n",
       " ('someone', 'NN'),\n",
       " ('somewhere', 'RB'),\n",
       " ('sorta', 'JJ'),\n",
       " ('start', 'NN'),\n",
       " ('starts', 'VBZ'),\n",
       " ('stick', 'NN'),\n",
       " ('still', 'RB'),\n",
       " ('stir', 'JJ'),\n",
       " ('strange', 'JJ'),\n",
       " ('strangeness', 'JJ'),\n",
       " ('street', 'NN'),\n",
       " ('studio', 'NN'),\n",
       " ('suits', 'NNS'),\n",
       " ('sure', 'VBP'),\n",
       " ('taken', 'VBN'),\n",
       " ('teen', 'JJ'),\n",
       " ('terribly', 'RB'),\n",
       " ('things', 'NNS'),\n",
       " ('thrilling', 'VBG'),\n",
       " ('throughout', 'IN'),\n",
       " ('tons', 'NNS'),\n",
       " ('took', 'VBD'),\n",
       " ('touches', 'NNS'),\n",
       " ('trying', 'VBG'),\n",
       " ('turning', 'VBG'),\n",
       " ('two', 'CD'),\n",
       " ('types', 'NNS'),\n",
       " ('understanding', 'VBG'),\n",
       " ('unravel', 'NN'),\n",
       " ('unraveling', 'VBG'),\n",
       " ('us', 'PRP'),\n",
       " ('video', 'JJ'),\n",
       " ('visions', 'NNS'),\n",
       " ('want', 'VBP'),\n",
       " ('watch', 'JJ'),\n",
       " ('way', 'NN'),\n",
       " ('ways', 'NNS'),\n",
       " ('weird', 'VBP'),\n",
       " ('well', 'RB'),\n",
       " ('wes', 'RB'),\n",
       " ('whatever', 'WDT'),\n",
       " ('witch', 'NN'),\n",
       " ('world', 'NN'),\n",
       " ('would', 'MD'),\n",
       " ('wrapped', 'VB'),\n",
       " ('write', 'CD'),\n",
       " ('years', 'NNS')]"
      ]
     },
     "execution_count": 20,
     "metadata": {},
     "output_type": "execute_result"
    }
   ],
   "source": [
    "nltk.pos_tag(vocab)"
   ]
  },
  {
   "cell_type": "code",
   "execution_count": 68,
   "metadata": {
    "collapsed": false
   },
   "outputs": [
    {
     "name": "stdout",
     "output_type": "stream",
     "text": [
      "['plot', 'two', 'teen', 'couples', 'go', 'to', 'a', 'church', 'party', 'drink', 'and', 'then', 'drive', 'they', 'get', 'into', 'an', 'accident', 'one', 'of', 'the', 'guys', 'dies', 'but', 'his', 'girlfriend', 'continues', 'to', 'see', 'him', 'in', 'her', 'life', 'and', 'has', 'nightmares', 'what', 's', 'the', 'deal', 'watch', 'the', 'movie', 'and', 'sorta', 'find', 'out', 'critique', 'a', 'mind', 'fuck', 'movie', 'for', 'the', 'teen', 'generation', 'that', 'touches', 'on', 'a', 'very', 'cool', 'idea', 'but', 'presents', 'it', 'in', 'a', 'very', 'bad', 'package', 'which', 'is', 'what', 'makes', 'this', 'review', 'an', 'even', 'harder', 'one', 'to', 'write', 'since', 'i', 'generally', 'applaud', 'films', 'which', 'attempt', 'to', 'break', 'the', 'mold', 'mess', 'with', 'your', 'head', 'and', 'such', 'lost', 'highway', 'memento', 'but', 'there', 'are', 'good', 'and', 'bad', 'ways', 'of', 'making', 'all', 'types', 'of', 'films', 'and', 'these', 'folks', 'just', 'didn', 't', 'snag', 'this', 'one', 'correctly', 'they', 'seem', 'to', 'have', 'taken', 'this', 'pretty', 'neat', 'concept', 'but', 'executed', 'it', 'terribly', 'so', 'what', 'are', 'the', 'problems', 'with', 'the', 'movie', 'well', 'its', 'main', 'problem', 'is', 'that', 'it', 's', 'simply', 'too', 'jumbled', 'it', 'starts', 'off', 'normal', 'but', 'then', 'downshifts', 'into', 'this', 'fantasy', 'world', 'in', 'which', 'you', 'as', 'an', 'audience', 'member', 'have', 'no', 'idea', 'what', 's', 'going', 'on', 'there', 'are', 'dreams', 'there', 'are', 'characters', 'coming', 'back', 'from', 'the', 'dead', 'there', 'are', 'others', 'who', 'look', 'like', 'the', 'dead', 'there', 'are', 'strange', 'apparitions', 'there', 'are', 'disappearances', 'there', 'are', 'a', 'looooot', 'of', 'chase', 'scenes', 'there', 'are', 'tons', 'of', 'weird', 'things', 'that', 'happen', 'and', 'most', 'of', 'it', 'is', 'simply', 'not', 'explained', 'now', 'i', 'personally', 'don', 't', 'mind', 'trying', 'to', 'unravel', 'a', 'film', 'every', 'now', 'and', 'then', 'but', 'when', 'all', 'it', 'does', 'is', 'give', 'me', 'the', 'same', 'clue', 'over', 'and', 'over', 'again', 'i', 'get', 'kind', 'of', 'fed', 'up', 'after', 'a', 'while', 'which', 'is', 'this', 'film', 's', 'biggest', 'problem', 'it', 's', 'obviously', 'got', 'this', 'big', 'secret', 'to', 'hide', 'but', 'it', 'seems', 'to', 'want', 'to', 'hide', 'it', 'completely', 'until', 'its', 'final', 'five', 'minutes', 'and', 'do', 'they', 'make', 'things', 'entertaining', 'thrilling', 'or', 'even', 'engaging', 'in', 'the', 'meantime', 'not', 'really', 'the', 'sad', 'part', 'is', 'that', 'the', 'arrow', 'and', 'i', 'both', 'dig', 'on', 'flicks', 'like', 'this', 'so', 'we', 'actually', 'figured', 'most', 'of', 'it', 'out', 'by', 'the', 'half', 'way', 'point', 'so', 'all', 'of', 'the', 'strangeness', 'after', 'that', 'did', 'start', 'to', 'make', 'a', 'little', 'bit', 'of', 'sense', 'but', 'it', 'still', 'didn', 't', 'the', 'make', 'the', 'film', 'all', 'that', 'more', 'entertaining', 'i', 'guess', 'the', 'bottom', 'line', 'with', 'movies', 'like', 'this', 'is', 'that', 'you', 'should', 'always', 'make', 'sure', 'that', 'the', 'audience', 'is', 'into', 'it', 'even', 'before', 'they', 'are', 'given', 'the', 'secret', 'password', 'to', 'enter', 'your', 'world', 'of', 'understanding', 'i', 'mean', 'showing', 'melissa', 'sagemiller', 'running', 'away', 'from', 'visions', 'for', 'about', '20', 'minutes', 'throughout', 'the', 'movie', 'is', 'just', 'plain', 'lazy', 'okay', 'we', 'get', 'it', 'there', 'are', 'people', 'chasing', 'her', 'and', 'we', 'don', 't', 'know', 'who', 'they', 'are', 'do', 'we', 'really', 'need', 'to', 'see', 'it', 'over', 'and', 'over', 'again', 'how', 'about', 'giving', 'us', 'different', 'scenes', 'offering', 'further', 'insight', 'into', 'all', 'of', 'the', 'strangeness', 'going', 'down', 'in', 'the', 'movie', 'apparently', 'the', 'studio', 'took', 'this', 'film', 'away', 'from', 'its', 'director', 'and', 'chopped', 'it', 'up', 'themselves', 'and', 'it', 'shows', 'there', 'might', 've', 'been', 'a', 'pretty', 'decent', 'teen', 'mind', 'fuck', 'movie', 'in', 'here', 'somewhere', 'but', 'i', 'guess', 'the', 'suits', 'decided', 'that', 'turning', 'it', 'into', 'a', 'music', 'video', 'with', 'little', 'edge', 'would', 'make', 'more', 'sense', 'the', 'actors', 'are', 'pretty', 'good', 'for', 'the', 'most', 'part', 'although', 'wes', 'bentley', 'just', 'seemed', 'to', 'be', 'playing', 'the', 'exact', 'same', 'character', 'that', 'he', 'did', 'in', 'american', 'beauty', 'only', 'in', 'a', 'new', 'neighborhood', 'but', 'my', 'biggest', 'kudos', 'go', 'out', 'to', 'sagemiller', 'who', 'holds', 'her', 'own', 'throughout', 'the', 'entire', 'film', 'and', 'actually', 'has', 'you', 'feeling', 'her', 'character', 's', 'unraveling', 'overall', 'the', 'film', 'doesn', 't', 'stick', 'because', 'it', 'doesn', 't', 'entertain', 'it', 's', 'confusing', 'it', 'rarely', 'excites', 'and', 'it', 'feels', 'pretty', 'redundant', 'for', 'most', 'of', 'its', 'runtime', 'despite', 'a', 'pretty', 'cool', 'ending', 'and', 'explanation', 'to', 'all', 'of', 'the', 'craziness', 'that', 'came', 'before', 'it', 'oh', 'and', 'by', 'the', 'way', 'this', 'is', 'not', 'a', 'horror', 'or', 'teen', 'slasher', 'flick', 'it', 's', 'just', 'packaged', 'to', 'look', 'that', 'way', 'because', 'someone', 'is', 'apparently', 'assuming', 'that', 'the', 'genre', 'is', 'still', 'hot', 'with', 'the', 'kids', 'it', 'also', 'wrapped', 'production', 'two', 'years', 'ago', 'and', 'has', 'been', 'sitting', 'on', 'the', 'shelves', 'ever', 'since', 'whatever', 'skip', 'it', 'where', 's', 'joblo', 'coming', 'from', 'a', 'nightmare', 'of', 'elm', 'street', '3', '7', '10', 'blair', 'witch', '2', '7', '10', 'the', 'crow', '9', '10', 'the', 'crow', 'salvation', '4', '10', 'lost', 'highway', '10', '10', 'memento', '10', '10', 'the', 'others', '9', '10', 'stir', 'of', 'echoes', '8', '10']\n"
     ]
    }
   ],
   "source": [
    "print(corpus_tokens)"
   ]
  },
  {
   "cell_type": "code",
   "execution_count": 24,
   "metadata": {
    "collapsed": true
   },
   "outputs": [],
   "source": [
    "from nltk.stem import PorterStemmer, WordNetLemmatizer\n",
    "stemmer = PorterStemmer()\n",
    "lemmatizer = WordNetLemmatizer()"
   ]
  },
  {
   "cell_type": "code",
   "execution_count": null,
   "metadata": {
    "collapsed": true
   },
   "outputs": [],
   "source": []
  }
 ],
 "metadata": {
  "anaconda-cloud": {},
  "kernelspec": {
   "display_name": "Python [Root]",
   "language": "python",
   "name": "Python [Root]"
  },
  "language_info": {
   "codemirror_mode": {
    "name": "ipython",
    "version": 3
   },
   "file_extension": ".py",
   "mimetype": "text/x-python",
   "name": "python",
   "nbconvert_exporter": "python",
   "pygments_lexer": "ipython3",
   "version": "3.5.2"
  }
 },
 "nbformat": 4,
 "nbformat_minor": 0
}
